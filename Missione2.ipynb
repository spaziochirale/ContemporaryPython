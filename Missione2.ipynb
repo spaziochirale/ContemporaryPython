{
  "nbformat": 4,
  "nbformat_minor": 0,
  "metadata": {
    "colab": {
      "name": "SecondaLezione.ipynb",
      "provenance": [],
      "private_outputs": true,
      "include_colab_link": true
    },
    "kernelspec": {
      "name": "python3",
      "display_name": "Python 3"
    }
  },
  "cells": [
    {
      "cell_type": "markdown",
      "metadata": {
        "id": "view-in-github",
        "colab_type": "text"
      },
      "source": [
        "<a href=\"https://colab.research.google.com/github/spaziochirale/ContemporaryPython/blob/main/Missione2.ipynb\" target=\"_parent\"><img src=\"https://colab.research.google.com/assets/colab-badge.svg\" alt=\"Open In Colab\"/></a>"
      ]
    },
    {
      "metadata": {
        "id": "XIXv5ulYn1JE"
      },
      "cell_type": "markdown",
      "source": [
        "# Contemporary Python\n",
        "## Seconda Missione\n",
        "\n",
        "\n",
        "\n"
      ]
    },
    {
      "metadata": {
        "id": "IBYH2RgPnVS7"
      },
      "cell_type": "markdown",
      "source": [
        "# Il controllo del flusso del programma"
      ]
    },
    {
      "metadata": {
        "id": "rkxoreaKoj6V"
      },
      "cell_type": "markdown",
      "source": [
        "Come in tutti i linguaggi di programmazione, anche in Python esistono istruzioni specifiche per controllare il flusso del programma. La prima istruzione che ha già incontrato è il controllo condizionato all'esecuzione di un test. L'istruzione è nota come: **IF ... THEN ... ELSE**\n",
        "\n",
        "Vediamo ora di approfondire questa istruzione praticamente onnipresente in qualunque programma.\n",
        "\n",
        "Per prima cosa esaminiamo la situazione più semplice.\n",
        "\n",
        "Durante l'esecuzione di un programma, abbiamo la necessità di verificare l'esistenza di una certa condizione. Se la condizione è verificata dobbiamo fare qualcosa, altrimenti niente, cioè non c'è un ramo di programma alternativo da seguire, semplicemente proseguiamo con il flusso normale dell'esecuzione.\n",
        "\n",
        "Facciamo un esempio semplice, continuando ad usare il programma che chiede l'età all'utente.\n",
        "\n",
        "Immagina un programma che chiede all'utente l'età, poi chiede all'utente in che anno siamo e quindi mostra sul video l'anno di nascita dell'utente.\n",
        "\n",
        "Il programma lineare, senza alcuna diramazione condizionale, potrebbe essere il seguente:"
      ]
    },
    {
      "metadata": {
        "id": "sEpQeKsLqA-p"
      },
      "cell_type": "code",
      "source": [
        "print(\"Cercherò di calcolare il tuo anno di nascita.\")\n",
        "eta = int(input(\"Quanti anni hai?\"))\n",
        "annoAttuale = int(input(\"In che anno siamo?\"))\n",
        "print(\"il tuo anno di nascita è il\", annoAttuale - eta)\n",
        "\n"
      ],
      "execution_count": null,
      "outputs": []
    },
    {
      "metadata": {
        "id": "7uclxBDSsBAm"
      },
      "cell_type": "markdown",
      "source": [
        "Eseguendo il programma precedente puoi verificare che effettivamente l'anno di nascita viene calcolato.\n",
        "\n",
        "Immagina adesso che un utente burlone risponda con valori dell'età eccessivamente elevati.\n",
        "\n",
        "Come possiamo aggiungere un messaggio da parte del programma che mostri un po' di scetticismo in caso di valori palesemente troppo elevati?\n",
        "\n",
        "Semplice, usiamo la **if**."
      ]
    },
    {
      "metadata": {
        "id": "YXA1jdBZsLFs"
      },
      "cell_type": "code",
      "source": [
        "print(\"Cercherò di calcolare il tuo anno di nascita.\")\n",
        "eta = int(input(\"Quanti anni hai?\"))\n",
        "if eta > 105:\n",
        "  print(\"mmh... mi pare che tu abbia esagerato\")\n",
        "  print(\"ma non importa, faccio lo stesso il calcolo...\")\n",
        "annoAttuale = int(input(\"In che anno siamo?\"))\n",
        "print(\"il tuo anno di nascita è il\", annoAttuale - eta)"
      ],
      "execution_count": null,
      "outputs": []
    },
    {
      "cell_type": "markdown",
      "source": [
        "Come puoi vedere, nel caso in cui, alla richiesta dell'età, l'utente risponda un valore maggiore di 105, il programma stampa un paio di messaggi ironici, mentre qualora il valore immesso sia minore o uguale a 105, il blocco delle due istruzioni **print**, indentate dopo la **if**, non viene eseguito e l'esecuzione segue il corso normale come nell'esempio precedente.\n",
        "\n",
        "Hai appena utilizzato la forma più semplice dell'istruzione **if**, quella senza clausola else.\n",
        "\n",
        "Un esempio di uso della versione con clausola else è riportato nel programma seguente, in cui viene chiesta l'età e in conseguenza del valore immesso viene visualizzato un diverso messaggio a seconda se l'utente risulti maggiorenne o minorenne.\n"
      ],
      "metadata": {
        "id": "UaZXHRtVd6cW"
      }
    },
    {
      "cell_type": "code",
      "source": [
        "print(\"Cercherò di stabilire il tuo stato anagrafico.\")\n",
        "eta = int(input(\"Quanti anni hai?\"))\n",
        "if eta < 18:\n",
        "  print(\"Sei minorenne!\")\n",
        "else:\n",
        "  print(\"Sei maggiorenne!\")\n",
        "print(\"Ciao, alla prossima!\")"
      ],
      "metadata": {
        "id": "6Pp7o9qefEDd"
      },
      "execution_count": null,
      "outputs": []
    },
    {
      "cell_type": "markdown",
      "source": [
        "Come hai appena visto, il flusso del programma ad un certo punto ha una biforcazione, in base all'esito del test **eta < 18** viene eseguito un ramo del programma oppure un altro ramo. Nell'esempio ciascun ramo di programma è composto da una singola istruzione, ma ovviamente in un programma più complesso le istruzioni potrebbero essere più di una.\n",
        "\n",
        "Anzi, in un programma complesso in un ramo potrebbero esserci anche ulteriori istruzioni di controllo del flusso come la if. Un blocco di programma, infatti, può essere strutturato e complicato a piacere.\n",
        "\n",
        "Facciamo un esempio.\n",
        "\n",
        "Questa volta, dopo aver chiesto l'età, voglio fornire indicazioni tanto sullo stato anagrafico, quanto sulla possibilità di guidare automobili veloci. In Italia, per guidare un'automobile occorre avere almeno 18 anni. Prima della maggiore età non è possibile avere la patente, ma anche essendo maggiorenni e patentati, fino a 21 anni non è possibile guidare auto di grossa cilindrata.\n",
        "\n",
        "Complichiamo quindi un pochino il nostro programma.\n",
        "\n",
        "Osserva bene come sono strutturati i blocchi di programma nell'esempio che segue.\n",
        "Osserva che nel ramo **else** che si riferisce al test della maggiore età, è presente una seconda istruzione **if** che, a sua volta, crea due ulteriori rami di programma.\n",
        "\n",
        "Effettua un po' di prove, inserendo valori diversi per l'età. I casi da provare sono:\n",
        "- immetti un valore minore di 18 anni\n",
        "- immetti un valore compreso tra 18 e 20 anni\n",
        "- immetti un valore maggiore di 21 anni\n",
        "\n",
        "Puoi anche essere più scrupoloso e provare ad immettere i valori di soglia 18 anni e 21 anni."
      ],
      "metadata": {
        "id": "tBw-ZuiMflgb"
      }
    },
    {
      "cell_type": "code",
      "source": [
        "print(\"Cercherò di stabilire il tuo stato anagraficoe ti darò indicazioni sulla possibilità di guidare automobili.\")\n",
        "eta = int(input(\"Quanti anni hai?\"))\n",
        "if eta < 18:\n",
        "  print(\"Sei minorenne!\")\n",
        "  print(\"alla tua età non puoi avere la patente e non puoi guidare nessuna auto\")\n",
        "else:\n",
        "  print(\"Sei maggiorenne!\")\n",
        "  print(\"alla tua età potresti avere la patente\")\n",
        "  if eta < 21:\n",
        "    print(\"ma sei ancora troppo giovane per guidare auto di grossa cilindrata\")\n",
        "  else:\n",
        "    print(\"e sei abbastanza grande da guidare auto di grossa cilindrata\")\n",
        "print(\"Ciao, alla prossima!\")"
      ],
      "metadata": {
        "id": "ilWJs_SIhIHw"
      },
      "execution_count": null,
      "outputs": []
    },
    {
      "cell_type": "markdown",
      "source": [
        "Ti è chiaro come è stato strutturato il programma?\n",
        "\n",
        "Praticamente, qualora l'età non sia minore di 18, il flusso di esecuzione salta alla prima clausola **else** e dopo aver stampato il messaggio che informa l'utente di essere maggiorenne e *patentabile* viene effettuato un nuovo test sulla variabile **eta**, il cui valore, a questo punto, è sicuramente maggiore o uguale a 18, per verificare se il valore sia comunque minore di 21, e, in base alle due diverse possibilità vengono effettuate stampe di messaggi diversi.\n",
        "\n",
        "Hai notato che i due blocchi relativi ai due rami di programma della seconda **if** sono ancora più indentati verso destra? Sono blocchi secondari all'interno di un blocco che è già secondario rispetto al flusso di programma principale.\n",
        "\n",
        "Ovviamente non c'è limite alla complicazione di un programma, e anche in questi blocchi secondari che già sono all'interno di un blocco secondario potrebbero esserci altre diramazioni che genererebbero blocchi secondari ancora più indentati verso destra.\n",
        "\n",
        "Per evitare di indentare all'infinito e poiché sono comuni strutture di programma in cui devono essere eseguiti test a cascata, la versione più completa dell'istruzione **if** del Python prevede una clausola **elif** che praticamente è una **else** seguita da una **if** (else-if).\n",
        "\n",
        "L'uso di questa clausola è abbastanza intuitivo da capire con un esempio.\n",
        "\n",
        "Modifichiamo il nostro programma utilizzando la **elif**.\n",
        "\n"
      ],
      "metadata": {
        "id": "MFbhOjBEjRPN"
      }
    },
    {
      "cell_type": "code",
      "source": [
        "print(\"Cercherò di stabilire il tuo stato anagraficoe ti darò indicazioni sulla possibilità di guidare automobili.\")\n",
        "eta = int(input(\"Quanti anni hai?\"))\n",
        "if eta < 18:\n",
        "  print(\"Sei minorenne!\")\n",
        "  print(\"alla tua età non puoi avere la patente e non puoi guidare nessuna auto\")\n",
        "elif eta< 21:\n",
        "  print(\"Sei maggiorenne!\")\n",
        "  print(\"alla tua età potresti avere la patente\")\n",
        "  print(\"ma sei ancora troppo giovane per guidare auto di grossa cilindrata\")\n",
        "else:\n",
        "  print(\"e sei abbastanza grande da guidare auto di grossa cilindrata\")\n",
        "print(\"Ciao, alla prossima!\")"
      ],
      "metadata": {
        "id": "_NTu7X5ZmF3s"
      },
      "execution_count": null,
      "outputs": []
    },
    {
      "cell_type": "markdown",
      "source": [
        "Hai notato come il codice appare più semplice?\n",
        "Hai notato che il livello di indentazione è soltanto uno?\n",
        "\n",
        "In pratica, il flusso del programma funziona così: viene effettuato il test se **eta** sia minore di 18. Se questo test è positivo, cioè se è vero che **eta** è minore di 18, viene eseguito il blocco che si trova immediatamente sotto la **if**, sia la **elif** che la **else** vengono ignorate e il flusso di programma riprende al livello principale, eseguendo l'istruzione che visualizza il messaggio di saluto finale.\n",
        "\n",
        "Se invece **eta** non è minore di 18, il test fallisce, non viene eseguito il ramo immediatamente sotto la **if** ma il programma salta alla clausola **elif** dove è presente un secondo test (**eta** < 21).\n",
        "\n",
        "Se il flusso di programma è saltato alla **elif** vuol dire che sicuramente il valore di **eta** è maggiore o uguale di 18. Se il test della **elif** fornisce valore vero, ciò vuol dire che il valore di **eta** è compreso tra 18 e 20. Viene quindi eseguito il blocco immediatamente sotto la **elif**\n",
        "\n",
        "Se invece il test **eta** < 21 fallisce, vuol dire che l'età è maggiore o uguale a 21. Il blocco immediatamente sotto la **elif** non viene eseguito e il programma salta alla istruzione **else**, eseguendo il codice sotto di essa, per poi riprendere il flusso principale del programma.\n",
        "\n",
        "Chiaro?\n",
        "\n",
        "È molto importante che tu impari a strutturare correttamente il flusso del programma in base alla logica.\n",
        "\n",
        "Le clausole **if** **elif** ed **else** devono essere ben utilizzate.\n",
        "\n",
        "Tutto ciò richiede attitudine alla logica. Saper progettare la logica di esecuzione di un programma e saper formulare le giuste condizioni e collocarle nei punti giusti è un'arte che si impara con la pratica.\n",
        "\n",
        "Prima di chiudere l'argomento **if** è bene fornire un ulteriore nozione.\n",
        "\n",
        "Hai visto che dopo una **if** o una **elif** nella riga compare un test.\n",
        "\n",
        "In Python i test sono un particolare tipo di espressione che ha come risultato uno dei due valori: **True** oppure **False**\n",
        "\n",
        "L'espressione logica è una normale espressione matematica in cui ci sia almeno un test, cioè un operatore di comparazione.\n",
        "\n",
        "Gli operatori di comparazione sono:\n",
        "\n",
        "- **<** minore di\n",
        "- **<=** minore o uguale a\n",
        "- **==** uguale a\n",
        "- **>** maggiore di\n",
        "- **>=** maggiore o uguale a\n",
        "- **!=** diverso da\n",
        "\n",
        "Le espressioni possono essere complesse, come ad esempio **(5+a)<((6*x)-4)**\n",
        "\n",
        "Esistono anche degli operatori logici che possono essere utilizzati per combinare i due valori **True** e **False**.\n",
        "\n",
        "Anzi, per essere precisi, una variabile o una espressione che ha un valore di tipo **True** o **False** costituisce un **tipo di dato** che si chaiama **boolean** ed esistono operatori tipici delle espressioni booleane.\n",
        "\n",
        "Gli operatori booleani sono:\n",
        "- **and** fornisce il valore **True** se entrambi gli operandi sono **True**\n",
        "- **or**  fornisce il valore **True** se almeno uno dei due operandi è **True**\n",
        "- **not** fornisce il valore opposto a quello dell'operando.\n",
        "\n",
        "Gli esempi che seguono ti permetteranno di chiarire meglio cosa sono gli operatori booleani e come possono essere strutturate le espressioni logiche."
      ],
      "metadata": {
        "id": "JB_R9bygmuPq"
      }
    },
    {
      "cell_type": "code",
      "source": [
        "a=5\n",
        "b=2\n",
        "print(a==5 and b==2)"
      ],
      "metadata": {
        "id": "CdjUGeu8r4lt"
      },
      "execution_count": null,
      "outputs": []
    },
    {
      "cell_type": "code",
      "source": [
        "a=5\n",
        "b=2\n",
        "print(a==5 and b==5)"
      ],
      "metadata": {
        "id": "Y_7w4glJtMdp"
      },
      "execution_count": null,
      "outputs": []
    },
    {
      "cell_type": "code",
      "source": [
        "a=5\n",
        "b=2\n",
        "print(a==5 or b==5)"
      ],
      "metadata": {
        "id": "8SO2PRS6tTrU"
      },
      "execution_count": null,
      "outputs": []
    },
    {
      "cell_type": "code",
      "source": [
        "a=5\n",
        "b=2\n",
        "print(not(a==5 and b==2))"
      ],
      "metadata": {
        "id": "rXagXNO2tYqy"
      },
      "execution_count": null,
      "outputs": []
    },
    {
      "cell_type": "markdown",
      "source": [],
      "metadata": {
        "id": "a-ArLl6stL1-"
      }
    },
    {
      "metadata": {
        "id": "JNIiAPGis2oc"
      },
      "cell_type": "markdown",
      "source": [
        "## Cicli\n",
        "L'altra tipica clausola di controllo che ci aspettiamo di trovare in un linguaggio di programmazione è quella che ci permette di realizzare dei cicli, cioè dei blocchi di programma che si ripetono per un certo numero di volte, in base ad una condizione che prima o poi deve cambiare, causando l'uscita dal ciclo e la continuazione del programma.\n",
        "A seconda di quale sia la condizione che porta a ripetere il blocco di programma e delle modalità della sua valutazione, nei moderni linguaggi di programmazione le istruzioni che permettono di controllare i cicli sono note come, **FOR**, **WHILE** o **REPEAT UNTIL**.\n",
        "Normalmente, le varie opzioni offerte sono tutte equivalenti, nel senso che con una qualsiasi di queste istruzioni di controllo è possibile realizzare qualunque tipo di ciclo, ma vengono offerte diverse opzioni per rendere più naturale e comprensibile il tipo di logica applicata.\n",
        "\n",
        "Vediamo alcuni esempi relativi al Python.\n"
      ]
    },
    {
      "metadata": {
        "id": "Ie71-e-9vP6n"
      },
      "cell_type": "code",
      "source": [
        "for contatore in range(1,11):\n",
        "  print(contatore)"
      ],
      "execution_count": null,
      "outputs": []
    },
    {
      "metadata": {
        "id": "vRSYFiwLvsB3"
      },
      "cell_type": "markdown",
      "source": [
        "Normalmente si usa la clausola ***for*** quando un blocco di programma deve ripetersi per un numero prestabilito di volte. L'istruzione ***range*** è una funzione standard del Python che viene invocata con due parametri e fornisce un intervallo di numeri che va dal primo parametro al valore del secondo parametro ***meno uno***.\n",
        "Torneremo più avanti sul concetto di *funzione* e sulle potenzialità della clausola for quando avremo introdotto ulteriori caratteristiche del linguaggio.\n",
        "\n",
        "Lo stesso esempio può essere riscritto in questo modo:"
      ]
    },
    {
      "metadata": {
        "id": "sq_VduTTxEaf"
      },
      "cell_type": "code",
      "source": [
        "contatore = 1\n",
        "while contatore < 11:\n",
        "  print(contatore)\n",
        "  contatore += 1"
      ],
      "execution_count": null,
      "outputs": []
    },
    {
      "metadata": {
        "id": "AwE_z_s3yDy8"
      },
      "cell_type": "markdown",
      "source": [
        "L'istruzione ***while*** risulta più comoda quando non è prestabilito il numero di volte in cui debba essere eseguito il ciclo, ma questo dipende da una condizione che può cambiare per effetto di un evento come l'input dell'utente, il risultato di un calcolo o un valore letto da un database o ricevuto da un altro programma. Nel nostro esempio è stata usata per realizzare un ciclo predeterminato come nel caso precedente.\n",
        "\n",
        "L'istruzione ***break*** permette di uscire in modo immediato da un ciclo. Questa istruzione può essere utilizzata per gestire situazioni impreviste, errori, ma anche per simulare i cosiddetti *post-test loop*.\n",
        "\n",
        "Poiché l'impiego della clausola ***break*** è una tecnica di programmazione non strutturata, andrebbe utilizzata con cautela.\n",
        "\n",
        "Sul Paradigma di **Programmazione Strutturata** e sui *post-test loop* invitiamo i lettori di questo notebook che non fossero stati presenti alla lezione in laboratorio ad effettuare approfondimenti sul web.\n",
        "\n",
        "Come spunto forniamo un piccolo esempio:\n"
      ]
    },
    {
      "metadata": {
        "id": "bwLdEALQzBsa"
      },
      "cell_type": "code",
      "source": [
        "contatore = 1\n",
        "while True:\n",
        "  print(contatore)\n",
        "  contatore += 1\n",
        "  if contatore > 10:\n",
        "    break\n"
      ],
      "execution_count": null,
      "outputs": []
    },
    {
      "metadata": {
        "id": "woE6jTCz3hP8"
      },
      "cell_type": "markdown",
      "source": [
        "# Strutturazione del programma\n",
        "## Le funzioni\n",
        "\n",
        "Una funzione è un blocco di codice che può essere richiamato ed eseguito più volte all'interno di un programma.\n",
        "Normalmente questi blocchi di programma vengono richiamati assegnando a determinate variabili valori diversi, specifici caso per caso.\n",
        "Queste variabili vengono spesso denominate *argomenti* o *parametri*. Nel Python molto spesso vengono denominate *keys*.\n",
        "\n",
        "Vediamo un esempio."
      ]
    },
    {
      "metadata": {
        "id": "1imMYnto4z0A"
      },
      "cell_type": "code",
      "source": [
        "def stampaStatus (nome,eta):\n",
        "  print(\"Ciao caro\",nome)\n",
        "  if eta < 18:\n",
        "    print(\"Sei minorenne.\")\n",
        "  elif eta < 25:\n",
        "    print(\"Sei maggiorenne, ma ancora non puoi votare per il Senato.\")\n",
        "  else:\n",
        "    print(\"Sei maggiorenne e puoi votare per il Senato\")"
      ],
      "execution_count": null,
      "outputs": []
    },
    {
      "metadata": {
        "id": "Lk7dKNNa5q3p"
      },
      "cell_type": "markdown",
      "source": [
        "Tramite la clausola ***def*** viene definita la funzione, ma non viene eseguita! Si tratta di una dichiarazione. Una volta definita la funzione è memorizzata dall'interprete Python e può essere eseguita richiamandola valorizzandone i relativi parametri. Ecco l'esempio."
      ]
    },
    {
      "metadata": {
        "id": "ptIXNlI46J1B"
      },
      "cell_type": "code",
      "source": [
        "utente = input(\"Ciao. Come ti chiami?\")\n",
        "anni = eval(input(\"Quanti anni hai?\"))\n",
        "stampaStatus(utente, anni)\n",
        "print(\"Alla prossima!\")"
      ],
      "execution_count": null,
      "outputs": []
    },
    {
      "metadata": {
        "id": "LGXIaPXk7HVE"
      },
      "cell_type": "markdown",
      "source": [
        "Il tipo di *sotto-programma* appena definito è spesso chiamato dai puristi dell'informatica teorica ***procedura***, anziché *funzione*, poiché tale sotto-programma esegue azioni specifiche ma non restituisce al programma chiamante un risultato.\n",
        "Una ***funzione*** è un *sotto-programma* che restituisce un dato, chiamato **valore di ritorno**.\n",
        "Ecco un esempio che chiarisce il concetto."
      ]
    },
    {
      "metadata": {
        "id": "dnVvbe178FQg"
      },
      "cell_type": "code",
      "source": [
        "def somma(a,b):\n",
        "  c = a+b\n",
        "  return c"
      ],
      "execution_count": null,
      "outputs": []
    },
    {
      "metadata": {
        "id": "5UQg4zTN8PWT"
      },
      "cell_type": "markdown",
      "source": [
        "Ecco un esempio di utilizzo."
      ]
    },
    {
      "metadata": {
        "id": "6L8PBaWt8Tz8"
      },
      "cell_type": "code",
      "source": [
        "print(somma(3,4))"
      ],
      "execution_count": null,
      "outputs": []
    },
    {
      "metadata": {
        "id": "B4YiAHOU8kOv"
      },
      "cell_type": "markdown",
      "source": [
        "# Ricorsione\n",
        "Il Python, come la maggior parte dei linguaggi moderni supporta la ricorsione, cioè la possibilità che una funzione al proprio interno richiami se stessa.\n",
        "\n",
        "La cosa può apparire singolare, tuttavia è facilmente comprensibile analizzando come l'interprete gestisce le chiamate a funzione attraverso l'uso di una struttura dati chiamata ***stack*** che permette di associare ad ogni chiamata ricorsiva un'istanza diversa dello stato del programma.\n",
        "\n",
        "Per comprendere il concetto ricorriamo all'esempio classico della funzione ***fattoriale***.\n",
        "\n",
        "In matematica il fattoriale è un'operazione, indicata dall'operatore \"!\" indicato dietro un numero intero, definita in questo modo:\n",
        "\n",
        "n! = n x (n-1) x (n-2) x (n-3) x ... 1\n",
        "\n",
        "Ad esempio 5! = 5 x 4 x 3 x 2 x 1 = 120\n",
        "\n",
        "Per definizione il fattoriale di 0 è 1, cioè 0! = 1\n",
        "\n",
        "Utilizzando i loop è semplice scrivere una funzione Python che calcoli il fattoriale.\n",
        "\n",
        "Una prima soluzione che fa uso dell'istruzione ***for*** è la seguente:"
      ]
    },
    {
      "metadata": {
        "id": "RqgGnOUM_Dw3"
      },
      "cell_type": "code",
      "source": [
        "def fattoriale(n):\n",
        "    ris = 1\n",
        "    for x in range(1,n+1):\n",
        "        ris = ris*x\n",
        "    return ris"
      ],
      "execution_count": null,
      "outputs": []
    },
    {
      "metadata": {
        "id": "GKO03lWxzh82"
      },
      "cell_type": "markdown",
      "source": [
        "Possiamo provare la funzione con il seguente blocco di codice:"
      ]
    },
    {
      "metadata": {
        "id": "jCnm0V-Vzq7a"
      },
      "cell_type": "code",
      "source": [
        "a = eval(input(\"Numero? \"))\n",
        "print(\"Fattoriale di\",a,\"=\", fattoriale(a))"
      ],
      "execution_count": null,
      "outputs": []
    },
    {
      "metadata": {
        "id": "vxVnaUkY0FCD"
      },
      "cell_type": "markdown",
      "source": [
        "Per completezza forniamo anche una possibile soluzione che fa uso dell'istruzione ***while***."
      ]
    },
    {
      "metadata": {
        "id": "haXjPSVh0PEU"
      },
      "cell_type": "code",
      "source": [
        "def fatt(n):\n",
        "    ris = 1\n",
        "    x = n\n",
        "    while x>=1:\n",
        "        ris = ris * x\n",
        "        x = x -1\n",
        "\n",
        "    return ris\n",
        "\n",
        "a = eval(input(\"Numero? \"))\n",
        "print(\"Fattoriale di\",a,\"=\", fattoriale(a))"
      ],
      "execution_count": null,
      "outputs": []
    },
    {
      "metadata": {
        "id": "VA56YvIs_Zf-"
      },
      "cell_type": "markdown",
      "source": [
        "La soluzione convenzionale ottenuta con uno degli esempi precedenti si chiama ***iterativa***.\n",
        "\n",
        "Osservando la formula del fattoriale, è facile comprendere che vale la seguente proprietà:\n",
        "\n",
        "n! = n X (n-1)!\n",
        "\n",
        "cioè il fattoriale di un numero è pari al fattoriale del numero precedente moltiplicato per il numero stesso. Il fattoriale di 5 è quindi pari a 5 moltiplicato il fattoriale di 4.\n",
        "\n",
        "Sapendo che il fattoriale di 0 è pari ad 1, e potendo esprimere il problema di ordine *n* in termini del problema di ordine *n-1 * è allora possibile fornire una soluzione ricorsiva."
      ]
    },
    {
      "metadata": {
        "id": "_rX7vY-SAmnq"
      },
      "cell_type": "code",
      "source": [
        "def fattoriale(n):\n",
        "  if n==0:\n",
        "    return 1\n",
        "  return n * fattoriale(n-1)"
      ],
      "execution_count": null,
      "outputs": []
    },
    {
      "metadata": {
        "id": "9JPD1c1DA4K4"
      },
      "cell_type": "markdown",
      "source": [
        "Proviamo se funziona!"
      ]
    },
    {
      "metadata": {
        "id": "YRkLr-e7A7Zw"
      },
      "cell_type": "code",
      "source": [
        "print(fattoriale(5))"
      ],
      "execution_count": null,
      "outputs": []
    },
    {
      "metadata": {
        "id": "N78eEww_BCsR"
      },
      "cell_type": "markdown",
      "source": [
        "Rimandiamo alla discussione in aula gli approfondimenti"
      ]
    },
    {
      "metadata": {
        "id": "clomQIvhBG_v"
      },
      "cell_type": "markdown",
      "source": [
        "## Un problema più complesso\n",
        "\n",
        "Nel caso del fattoriale il codice della versione ricorsiva non appare vantaggioso né più chiaro della versione iterativa. Ma cosa accade se voglio realizzare un risolutore di un problema più intricato, come ad esempio il rompicato chiamato **Torre di Hanoi**?"
      ]
    },
    {
      "metadata": {
        "id": "5zcjKhSD0vkt"
      },
      "cell_type": "markdown",
      "source": [
        "# La Torre di Hanoi\n",
        "Si tratta di un celebre gioco-rompicapo la cui descrizione potete trovarla su Wikipedia a [questo link](https://it.wikipedia.org/wiki/Torre_di_Hanoi).\n",
        "Potete provare a giocare con una versione on line di questo rompicapo a [questo link](https://it.goobix.com/giochi-online/torri-di-hanoi/#).\n",
        "\n",
        "Supponiamo di voler scrivere un programma in Python che risolva il rompicapo per un numero arbitrario di dischetti.\n",
        "\n",
        "In particolare immaginiamo di voler definire una funzione, chiamata ***risolviHanoi***, che riceva come parametri:\n",
        "\n",
        "\n",
        "*   Il numero di dischi\n",
        "*   Il palo di origine su cui sono inizialmente impilati i dischi\n",
        "*   Il palo da utilizzare come appoggio\n",
        "*   Il palo di destinazione dove dovranno essere collocati i dischi alla fine del gioco\n",
        "\n",
        "Ad esempio, volendo risolvere il problema di spostare 4 dischi dal primo palo, al terzo palo usando il secondo come appoggio, chiameremo la funzione in questo modo: ***risolviHanoi(4,1,2,3)***\n",
        "\n",
        "La funzione dovrà stampare a video la sequenza di operazioni necessarie a risolvere il rompicapo. Nel caso dell'esempio sopra riportato, la funzione dovrebbe quindi stampare:\n",
        "\n",
        "sposta un disco dal palo  1  al palo  2\n",
        "\n",
        "sposta un disco dal palo  1  al palo  3\n",
        "\n",
        "sposta un disco dal palo  2  al palo  3\n",
        "\n",
        "sposta un disco dal palo  1  al palo  2\n",
        "\n",
        "sposta un disco dal palo  3  al palo  1\n",
        "\n",
        "sposta un disco dal palo  3  al palo  2\n",
        "\n",
        "sposta un disco dal palo  1  al palo  2\n",
        "\n",
        "sposta un disco dal palo  1  al palo  3\n",
        "\n",
        "sposta un disco dal palo  2  al palo  3\n",
        "\n",
        "sposta un disco dal palo  2  al palo  1\n",
        "\n",
        "sposta un disco dal palo  3  al palo  1\n",
        "\n",
        "sposta un disco dal palo  2  al palo  3\n",
        "\n",
        "sposta un disco dal palo  1  al palo  2\n",
        "\n",
        "sposta un disco dal palo  1  al palo  3\n",
        "\n",
        "sposta un disco dal palo  2  al palo  3\n",
        "\n",
        "\n",
        "\n",
        "\n",
        "Che è la soluzione per spostare 4 dischi dal palo 1 al palo 3 usando il palo 2 come appoggio.\n",
        "\n",
        "**Provate a progettare la funzione in modo iterativo.**\n",
        "\n",
        "Difficile vero?\n",
        "\n",
        "Il problema è molto difficile dal punto di vista progettuale. Pur esercitandosi con il rompicapo, risulta difficile identificare e descrivere un preciso algoritmo.\n",
        "\n",
        "Al contrario, la soluzione ricorsiva è molto semplice.\n",
        "\n",
        "**Per implementare la ricorsione, dobbiamo:**\n",
        "\n",
        "\n",
        "\n",
        "1.   Identificare il caso base che sappiamo risolvere e che costituisce la condizione di uscita dalla ricorsione\n",
        "2.   Descrivere il problema di ordine *n* in funzione del problema di ordine *n-1*\n",
        "\n",
        "**Vediamo il caso base:**\n",
        "\n",
        "Se n=1 la soluzione è facile:\n",
        "\n",
        "*Sposta il disco dal palo origine al palo di destinazione.*\n",
        "\n",
        "**Se n è un numero maggiore di 1 ragioniamo in questo modo:**\n",
        "\n",
        "Se non conosciamo la soluzione per n dischi, supponiamo di aver già risolto il problema per n-1 dischi. In questo caso basterà spostare innanzitutto i primi n-1 dischi dal palo di origine a quello di appoggio (usando quello di destinazione finale come appoggio) poi spostare il disco rimanente dal palo di origine a quello di destinazione ed infine spostare gli n-1 dischi dal palo di appoggio a quello di destinazione usando quello che all'inizio era di origine come palo di appoggio e troveremo i dischi impilati nell'ordine corretto, tutti sul palo di destinazione.\n",
        "\n",
        "In realtà non sappiamo ancora come spostare n-1 dischi, ma potremo riapplicare lo stesso ragionamento immaginando di aver già risolto il problema per n-2 dischi, cosa che in realtà non sappiamo ancora fare ma nuovamente potremo riapplicare il ragionamento immaginando di aver già risolto il problema per n-3 dischi e così via finché non arriveremo al caso di 1 solo disco che sappiamo effettivamente risolvere (caso base) e quindi la ricorsione terminerà.\n",
        "\n",
        "In altre parole, avendo un linguaggio ricorsivo potremmo impostare il problema in questo modo.\n",
        "\n",
        "Spostare n dischi dal palo origine al palo di destinazione usando il palo di appoggio?\n",
        "\n",
        "    Se n=1, allora sposta un disco dal palo origine al palo destinazione, altrimenti:\n",
        "\n",
        "        sposta n-1 dischi dal palo origine al palo  appoggio usando il palo destinazione come appoggio\n",
        "  \n",
        "        poi sposta un disco dal palo origine al palo destinazione\n",
        "  \n",
        "        poi sposta n-1 dischi dal palo  appoggio al palo destinazione usando il palo origine come appoggio\n",
        "  \n",
        "  \n",
        "In linguaggio Python si traduce in questa funzione:\n"
      ]
    },
    {
      "metadata": {
        "id": "tyDURcmv85B1"
      },
      "cell_type": "code",
      "source": [
        "def risolviHanoi(n, origine, appoggio, destinazione):\n",
        "    if n == 1:\n",
        "        print(\"sposta un disco dal palo \",origine,\" al palo \",destinazione)\n",
        "    else:\n",
        "        risolviHanoi(n-1,origine,destinazione,appoggio)\n",
        "        print(\"sposta un disco dal palo \",origine,\" al palo \",destinazione)\n",
        "        risolviHanoi(n-1,appoggio,origine,destinazione)"
      ],
      "execution_count": null,
      "outputs": []
    },
    {
      "metadata": {
        "id": "w05xnoGK9CKc"
      },
      "cell_type": "markdown",
      "source": [
        "Tutto qui?\n",
        "Provare per credere."
      ]
    },
    {
      "metadata": {
        "id": "Xr5J-A6l9HaG"
      },
      "cell_type": "code",
      "source": [
        "num=eval(input('Quanti dischi? '))\n",
        "risolviHanoi(num, 1,2,3)\n"
      ],
      "execution_count": null,
      "outputs": []
    }
  ]
}