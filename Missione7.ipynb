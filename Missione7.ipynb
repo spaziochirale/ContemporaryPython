{
  "nbformat": 4,
  "nbformat_minor": 0,
  "metadata": {
    "accelerator": "GPU",
    "colab": {
      "name": "CIFAR cnn.ipynb",
      "provenance": [],
      "private_outputs": true,
      "include_colab_link": true
    },
    "kernelspec": {
      "display_name": "Python 3",
      "name": "python3"
    }
  },
  "cells": [
    {
      "cell_type": "markdown",
      "metadata": {
        "id": "view-in-github",
        "colab_type": "text"
      },
      "source": [
        "<a href=\"https://colab.research.google.com/github/spaziochirale/ContemporaryPython/blob/main/Missione7.ipynb\" target=\"_parent\"><img src=\"https://colab.research.google.com/assets/colab-badge.svg\" alt=\"Open In Colab\"/></a>"
      ]
    },
    {
      "cell_type": "markdown",
      "metadata": {
        "id": "DSPCom-KmApV"
      },
      "source": [
        "# Contemporary Python\n",
        "## Settima Missione\n",
        "## Reti Neurali Convoluzionali"
      ]
    },
    {
      "cell_type": "markdown",
      "metadata": {
        "id": "x4HI2mpwlrcn"
      },
      "source": [
        "##### Copyright 2019 The TensorFlow Authors."
      ]
    },
    {
      "cell_type": "code",
      "metadata": {
        "cellView": "form",
        "id": "679Lmwt3l1Bk"
      },
      "source": [
        "#@title Licensed under the Apache License, Version 2.0 (the \"License\");\n",
        "# you may not use this file except in compliance with the License.\n",
        "# You may obtain a copy of the License at\n",
        "#\n",
        "# https://www.apache.org/licenses/LICENSE-2.0\n",
        "#\n",
        "# Unless required by applicable law or agreed to in writing, software\n",
        "# distributed under the License is distributed on an \"AS IS\" BASIS,\n",
        "# WITHOUT WARRANTIES OR CONDITIONS OF ANY KIND, either express or implied.\n",
        "# See the License for the specific language governing permissions and\n",
        "# limitations under the License."
      ],
      "execution_count": null,
      "outputs": []
    },
    {
      "cell_type": "markdown",
      "metadata": {
        "id": "qLGkt5qiyz4E"
      },
      "source": [
        "In questo notebook mostreremo la costruzione e l'addestramento di una semplice Rete Neurale Convoluzionale.\n",
        "La rete sarà addestrata per classificare le immagini del dataset  [CIFAR images](https://www.cs.toronto.edu/~kriz/cifar.html).\n",
        "L'impiego delle [Keras Sequential API](https://www.tensorflow.org/guide/keras/overview) ci permetterà di raggiungre l'obiettivo con una manciata di linee di codice.\n"
      ]
    },
    {
      "cell_type": "markdown",
      "metadata": {
        "id": "m7KBpffWzlxH"
      },
      "source": [
        "### Importiamo la libreria TensorFlow"
      ]
    },
    {
      "cell_type": "code",
      "metadata": {
        "id": "iAve6DCL4JH4"
      },
      "source": [
        "import tensorflow as tf\n",
        "\n",
        "from tensorflow.keras import datasets, layers, models\n",
        "import matplotlib.pyplot as plt"
      ],
      "execution_count": null,
      "outputs": []
    },
    {
      "cell_type": "markdown",
      "metadata": {
        "id": "jRFxccghyMVo"
      },
      "source": [
        "### Scarichiamo e prepariamo il dataset CIFAR10\n",
        "\n",
        "Il dataset CIFAR10 contiene 60.000 immagini a colori relative a 10 categorie di soggetti. Per ogni soggetto sono presenti 6.000 fotografie in bassa risoluzione (32X32 pixel).\n",
        "Il Dataset è suddiviso in 50.000 immagini di training e 10.000 immagini di test.\n",
        "Le categorie, o classi, sono mutualmente esclusive, cioè ogni oggetto può appartenere a una sola classe."
      ]
    },
    {
      "cell_type": "code",
      "metadata": {
        "id": "JWoEqyMuXFF4"
      },
      "source": [
        "(train_images, train_labels), (test_images, test_labels) = datasets.cifar10.load_data()\n",
        "\n",
        "# Normalize pixel values to be between 0 and 1\n",
        "train_images, test_images = train_images / 255.0, test_images / 255.0"
      ],
      "execution_count": null,
      "outputs": []
    },
    {
      "cell_type": "markdown",
      "metadata": {
        "id": "7wArwCTJJlUa"
      },
      "source": [
        "### Diamo uno sguardo ai nostri dati\n",
        "\n",
        "Per vedere come sono fatti i nostri dati, disegnamo a video, con l'aiuto della consueta libreria grafica *matplotlib*, le prime 25 immagini del dataset di training, e stampiamo sotto ogni immagine la relativa etichetta.  \n"
      ]
    },
    {
      "cell_type": "code",
      "metadata": {
        "id": "K3PAELE2eSU9"
      },
      "source": [
        "class_names = ['aeroplano', 'automobile', 'uccello', 'gatto', 'cervo',\n",
        "               'cane', 'rana', 'cavallo', 'nave', 'camion']\n",
        "\n",
        "plt.figure(figsize=(10,10))\n",
        "for i in range(25):\n",
        "    plt.subplot(5,5,i+1)\n",
        "    plt.xticks([])\n",
        "    plt.yticks([])\n",
        "    plt.grid(False)\n",
        "    plt.imshow(train_images[i], cmap=plt.cm.binary)\n",
        "    # The CIFAR labels happen to be arrays,\n",
        "    # which is why you need the extra index\n",
        "    plt.xlabel(class_names[train_labels[i][0]])\n",
        "plt.show()"
      ],
      "execution_count": null,
      "outputs": []
    },
    {
      "cell_type": "markdown",
      "metadata": {
        "id": "Oewp-wYg31t9"
      },
      "source": [
        "### Creiamo la parte convoluzionale della rete"
      ]
    },
    {
      "cell_type": "markdown",
      "metadata": {
        "id": "3hQvqXpNyN3x"
      },
      "source": [
        "Le sei righe di codice, riportate qui sotto, definiscono la parte convoluzionale utilizzando il consueto schema costituito da una sequenza di layer [Conv2D](https://www.tensorflow.org/api_docs/python/tf/keras/layers/Conv2D) e [MaxPooling2D](https://www.tensorflow.org/api_docs/python/tf/keras/layers/MaxPool2D).\n",
        "\n",
        "L'input alla nostra CNN è un tensore con shape (image_height, image_width, color_channels), per il momento ignoriamo il concetto di batch size che il lettore più esperto di reti neurali potrebbe aver considerato. Color_channels si riferisce alla rappresentazione (R,G,B).\n",
        "Nel nostro caso, l'input della CNN è  un tensore con shape (32, 32, 3), che è il formato delle immagini CIFAR, cioè matrici 32X32 bit a colori in RGB. Il parametro `input_shape` del nostro primo layer serve ad impostare questa *forma* per l'input.\n",
        "Il primo parametro del metodo `layers.conv2D` definisce il numero di canali di output dello strato.\n"
      ]
    },
    {
      "cell_type": "code",
      "metadata": {
        "id": "L9YmGQBQPrdn"
      },
      "source": [
        "model = models.Sequential()\n",
        "model.add(layers.Conv2D(32, (3, 3), activation='relu', input_shape=(32, 32, 3)))\n",
        "model.add(layers.MaxPooling2D((2, 2)))\n",
        "model.add(layers.Conv2D(64, (3, 3), activation='relu'))\n",
        "model.add(layers.MaxPooling2D((2, 2)))\n",
        "model.add(layers.Conv2D(64, (3, 3), activation='relu'))"
      ],
      "execution_count": null,
      "outputs": []
    },
    {
      "cell_type": "markdown",
      "metadata": {
        "id": "lvDVFkg-2DPm"
      },
      "source": [
        "Possiamo stampare a video un riepilogo della struttura costruita fino a questo punto con la seguente chiamata del metodo `summary`()"
      ]
    },
    {
      "cell_type": "code",
      "metadata": {
        "id": "8-C4XBg4UTJy"
      },
      "source": [
        "model.summary()"
      ],
      "execution_count": null,
      "outputs": []
    },
    {
      "cell_type": "markdown",
      "metadata": {
        "id": "_j-AXYeZ2GO5"
      },
      "source": [
        "Come si può osservare, l'output di ogni strato Conv2D e MaxPooling2D è un tensore 3D con shape (height, width, channels). Man mano che si procede verso gli strati interni le dimensioni width e height tendono a diminuire. Pertanto, il numero di canali di output di ciascun layer Conv2D può essere aumentato (ad esempio, 32 o 64) senza rischiare di sovraccaricare l'elaborazione."
      ]
    },
    {
      "cell_type": "markdown",
      "metadata": {
        "id": "_v8sVOtG37bT"
      },
      "source": [
        "### Aggiungiamo i layer di tipo Dense nella parte finale della rete\n",
        "Per completare il nostro modello, non ci resta che aggiungere la parte di rete DNN a cui sarà demandata l'operazione di classificazione.\n",
        "L'output dell'ultimo strato della base convoluzionale è un tensore con shape (4, 4, 64). Gli strati di tipo Dense accettano in input dei vettori, cioè dei tensori 1D, mentre l'output corrente è un tensore 3D. Pertanto, come prima cosa, dobbiamo effettuare l'operazione di flatten dell'output 3D, e successivamente aggiungere uno o più layer Dense.\n",
        "Il CIFAR ha 10 classi di output, per cui utilizzeremo un ultimo Dense layer con 10 outputs senza funzione di attivazione."
      ]
    },
    {
      "cell_type": "code",
      "metadata": {
        "id": "mRs95d6LUVEi"
      },
      "source": [
        "model.add(layers.Flatten())\n",
        "model.add(layers.Dense(64, activation='relu'))\n",
        "model.add(layers.Dense(10))"
      ],
      "execution_count": null,
      "outputs": []
    },
    {
      "cell_type": "markdown",
      "metadata": {
        "id": "ipGiQMcR4Gtq"
      },
      "source": [
        "L'architettura finale del modello è pertanto questa:."
      ]
    },
    {
      "cell_type": "code",
      "metadata": {
        "id": "8Yu_m-TZUWGX"
      },
      "source": [
        "model.summary()"
      ],
      "execution_count": null,
      "outputs": []
    },
    {
      "cell_type": "markdown",
      "metadata": {
        "id": "xNKXi-Gy3RO-"
      },
      "source": [
        "Possiamo osservare che l'output con shape (4, 4, 64) è stato appiattito (flattened) in un vettore di dimensione (1024) prima di essere trasferito allo strato dense di 64 neuroni."
      ]
    },
    {
      "cell_type": "markdown",
      "metadata": {
        "id": "P3odqfHP4M67"
      },
      "source": [
        "### Compiliamo e addestriamo il modello"
      ]
    },
    {
      "cell_type": "code",
      "metadata": {
        "id": "MdDzI75PUXrG"
      },
      "source": [
        "model.compile(optimizer='adam',\n",
        "              loss=tf.keras.losses.SparseCategoricalCrossentropy(from_logits=True),\n",
        "              metrics=['accuracy'])\n",
        "\n",
        "history = model.fit(train_images, train_labels, epochs=10,\n",
        "                    validation_data=(test_images, test_labels))"
      ],
      "execution_count": null,
      "outputs": []
    },
    {
      "cell_type": "markdown",
      "metadata": {
        "id": "jKgyC5K_4O0d"
      },
      "source": [
        "### Valutiamo l'accuratezza raggiunta dalla rete"
      ]
    },
    {
      "cell_type": "code",
      "metadata": {
        "id": "gtyDF0MKUcM7"
      },
      "source": [
        "plt.plot(history.history['accuracy'], label='accuracy')\n",
        "plt.plot(history.history['val_accuracy'], label = 'val_accuracy')\n",
        "plt.xlabel('Epoch')\n",
        "plt.ylabel('Accuracy')\n",
        "plt.ylim([0.5, 1])\n",
        "plt.legend(loc='lower right')\n",
        "\n",
        "test_loss, test_acc = model.evaluate(test_images,  test_labels, verbose=2)"
      ],
      "execution_count": null,
      "outputs": []
    },
    {
      "cell_type": "code",
      "metadata": {
        "id": "0LvwaKhtUdOo"
      },
      "source": [
        "print(test_acc)"
      ],
      "execution_count": null,
      "outputs": []
    },
    {
      "cell_type": "markdown",
      "metadata": {
        "id": "8cfJ8AR03gT5"
      },
      "source": [
        "La nostra semplice rete CNN ha raggiunto un accuratezza superiore al 70%. Non male per un esercizio risolto in così poco tempo!\n"
      ]
    }
  ]
}