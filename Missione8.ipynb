{
  "nbformat": 4,
  "nbformat_minor": 0,
  "metadata": {
    "colab": {
      "provenance": [],
      "authorship_tag": "ABX9TyPUafUmsETAlAL2X2X0ma8X",
      "include_colab_link": true
    },
    "kernelspec": {
      "name": "python3",
      "display_name": "Python 3"
    },
    "language_info": {
      "name": "python"
    }
  },
  "cells": [
    {
      "cell_type": "markdown",
      "metadata": {
        "id": "view-in-github",
        "colab_type": "text"
      },
      "source": [
        "<a href=\"https://colab.research.google.com/github/spaziochirale/ContemporaryPython/blob/main/Missione8.ipynb\" target=\"_parent\"><img src=\"https://colab.research.google.com/assets/colab-badge.svg\" alt=\"Open In Colab\"/></a>"
      ]
    },
    {
      "cell_type": "markdown",
      "source": [
        "# Contemporary Python\n",
        "## Ottava Missione\n",
        "## Utilizzare i modelli State Of the Art (SOA)"
      ],
      "metadata": {
        "id": "LlMpn2SSdAdj"
      }
    },
    {
      "cell_type": "markdown",
      "source": [
        "In questo tutorial, vedrai come utilizzare all'interno della tua applicazione i servizi offerti da un LLM SOA, invocando le API esposte dalla piattaforma.\n",
        "In particolare utilizzerai i servizi offerti da OpenAI, richiamando le API del LLM che è alla base di ChatGPT.\n",
        "\n",
        "Per poter utilizzare questi servizi è necessario creare un account su OpenAI e attivare un metodo di pagamento.\n",
        "\n",
        "Solitamente, questo tipo di servizi, orientati ad utenti professionali sono a pagamento.\n",
        "\n",
        "Fai riferimento alla documentazione della piattaforma OpenAI per informazioni su come creare un account e sulle relative tariffe.\n"
      ],
      "metadata": {
        "id": "miWWvD-NdO1z"
      }
    },
    {
      "cell_type": "markdown",
      "source": [
        "## Installazione delle librerie OpenAI\n",
        "\n",
        "La libreria `openapi`non è ovviamente una libreria standard dell'interprete Pyhon e quindi dovrai installarla sul tuo ambiente di sviluppo.\n",
        "\n",
        "In questo Notebook utilizziamo il package manager standard del Python `pip`"
      ],
      "metadata": {
        "id": "-ewVEvcUsdir"
      }
    },
    {
      "cell_type": "code",
      "source": [
        "pip install openai"
      ],
      "metadata": {
        "id": "pGxqhxoiqRrA"
      },
      "execution_count": null,
      "outputs": []
    },
    {
      "cell_type": "markdown",
      "source": [
        "## Importare la libreria nel programma\n",
        "Una volta installata la libreria possiamo importarla all'interno del nostro programma, come fatto finora per qualunque altra libreria."
      ],
      "metadata": {
        "id": "RoakurnhtMyz"
      }
    },
    {
      "cell_type": "code",
      "source": [
        "from openai import OpenAI"
      ],
      "metadata": {
        "id": "2mZo33cTdOHd"
      },
      "execution_count": null,
      "outputs": []
    },
    {
      "cell_type": "markdown",
      "source": [
        "## Generare le chiavi di autenticazione\n",
        "Poiché i servizi di OpenAI sono richiamabili attraverso una URL web, il riconoscimento del cliente avviene attraverso l'invio di un identificatore crittografato (token) nei parametri della chiamata alla URL.\n",
        "\n",
        "Pertanto, le API di OpenAI prevedono che venga impostata una API Key, che deve essere genarata dall'account del cliente sulla sua console nella piattaforma OpenAI.\n",
        "\n",
        "Una volta generata la API Key, questa può essere memorizzata in una variabile di enviroinment sul sistema dove gira l'applicazione client, oppure in una variabile all'interno del codice.\n",
        "\n",
        "In entrambi i casi, è importante garantire la riservatezza della chiave, poiché consente l'uso delle API e genera i relativi costi.\n",
        "\n",
        "In questo Notebook memorizziamo la chiave in una variabile."
      ],
      "metadata": {
        "id": "Pol7iOp_eb-7"
      }
    },
    {
      "cell_type": "code",
      "source": [
        "my_api_key = 'Inserisci qui la tua API Key'\n",
        "\n",
        "client = OpenAI(api_key=my_api_key)"
      ],
      "metadata": {
        "id": "uc0vHyx9tjLx"
      },
      "execution_count": null,
      "outputs": []
    },
    {
      "cell_type": "markdown",
      "source": [
        "## Scriviamo un programma che richiama le API della Chat di OpenAI\n",
        "\n",
        "Immaginiamo di voler riprendere uno dei primi esempi di codice Python fatto in questo corso: il programma che chiedeva l'età e poi rispondeva con una valutazione sulla possibilità di prendere la patente e guidare auto di grossa cilindrata.\n",
        "Questa volta vogliamo che il nostro programma si comporti in modo più umano e anziché rispondere sempre con gli stessi messaggi a stringa fissa, sulla base di semplici condizioni logiche, fornisca le stesse informazioni in modo più discorsivo, come farebbe un moderno chatbot.\n",
        "\n",
        "Ebbene, OpenAI fornisce una API chiamata `chat completion` che serve proprio a svolgere questi compiti.\n",
        "Si tratta della stessa API che viene chiamata dall'applicazione ChatGPT.\n",
        "\n",
        "L'API è una chiamata ad una URL Web sulla piattaforma OpenAI, in cui assieme al codice di autenticazione (API Key) vengono passate alcune informazioni.\n",
        "\n",
        "Nel nostro caso utilizzeremo un tesdto di istruzioni per contestualizzare il nostro ambito applicativo e il messaggio di risposta dell'utente al quale chiederemo la sua età.\n",
        "\n",
        "Le istruzioni sono le seguenti."
      ],
      "metadata": {
        "id": "NsApGb4rtw3m"
      }
    },
    {
      "cell_type": "code",
      "source": [
        "istruzioni = '''Sei un esperto di codice della strada e fornisci risposte sulla possibilità di avere la patente e guidare auto di grossa cilindrata.\n",
        "Se ti viene detta l'età sei in grado di rispondere se puoi prendere la patente e se puoi guidare auto di grossa cilindrata.\n",
        "Se hai più di 18 anni puoi prendere la patente.\n",
        "Se hai più di 21 anni puoi guidare auto di grossa cilindrata.'''"
      ],
      "metadata": {
        "id": "vm30nwLKoEmW"
      },
      "execution_count": null,
      "outputs": []
    },
    {
      "cell_type": "markdown",
      "source": [
        "A questo punto possiamo scrivere il nostro programma umanizzato."
      ],
      "metadata": {
        "id": "jXxwc_PQvbnU"
      }
    },
    {
      "cell_type": "code",
      "source": [
        "inputUtente=input('Quanti anni hai?')\n",
        "response = client.chat.completions.create(\n",
        "  model=\"gpt-4-turbo-preview\",\n",
        "  messages=[\n",
        "    {\"role\": \"system\", \"content\": istruzioni},\n",
        "    {\"role\": \"user\", \"content\": inputUtente}\n",
        "\n",
        "  ]\n",
        ")\n",
        "print(response.choices[0].message.content)"
      ],
      "metadata": {
        "id": "mHmlJMCYodfa"
      },
      "execution_count": null,
      "outputs": []
    },
    {
      "cell_type": "markdown",
      "source": [
        "Il frammento di programma qui sopra interagisce con l'API `chat completion` per generare una risposta basata sull'input fornito dall'utente. Ecco i dettagli su come funziona:\n",
        "\n",
        "1. **Raccolta dell'input dell'utente**: Il programma inizia chiedendo all'utente di inserire la sua età attraverso la funzione `input()`. Il testo \"Quanti anni hai?\" appare sullo schermo come prompt, e il programma attende che l'utente digiti la sua risposta e prema invio. La risposta dell'utente viene quindi salvata nella variabile `inputUtente`.\n",
        "\n",
        "2. **Creazione di una richiesta all'API di chat**: Successivamente, il programma utilizza il client API (identificato dalla variabile `client`) per inviare una richiesta di completamento di chat al modello \"gpt-4-turbo-preview\". Questa richiesta include due parti principali:\n",
        "   - Una dichiarazione di sistema (`\"role\": \"system\"`), che contiene istruzioni per il modello IA su come interpretare o su cosa fare con l'input dell'utente. La variabile `istruzioni` contiene le direttive per il modello. Queste istruzioni configurano il contesto e stabiliscono le regole per la generazione delle risposte.\n",
        "   - Un messaggio dell'utente (`\"role\": \"user\"`), che passa l'età inserita dall'utente al modello IA. Questo dice al modello che l'input dell'utente è la risposta alla domanda \"Quanti anni hai?\".\n",
        "\n",
        "3. **Generazione della risposta**: L'API elabora l'input basandosi sulle istruzioni fornite e sull'input dell'utente, e poi genera una risposta utilizzando il modello di IA specificato. Questa risposta è contenuta nell'oggetto `response`.\n",
        "\n",
        "4. **Estrazione e stampa della risposta**: Infine, il programma estrae la risposta generata dall'IA dall'oggetto `response` e la stampa. Si assume che `response.choices` sia una lista contenente almeno un elemento, dove ogni elemento rappresenta una possibile risposta generata dall'IA. Il programma accede al primo elemento di questa lista (`response.choices[0]`), poi al messaggio di quella scelta (`message`), e infine stampa il contenuto del messaggio (`content`). Quindi, ciò che viene stampato è il testo della risposta generata dall'IA all'input dell'utente.\n",
        "\n",
        "Facile vero?"
      ],
      "metadata": {
        "id": "CSiSCOUbv22K"
      }
    }
  ]
}