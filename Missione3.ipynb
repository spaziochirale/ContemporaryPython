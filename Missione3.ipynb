{
  "nbformat": 4,
  "nbformat_minor": 0,
  "metadata": {
    "colab": {
      "name": "TerzaLezione.ipynb",
      "provenance": [],
      "private_outputs": true,
      "include_colab_link": true
    },
    "kernelspec": {
      "name": "python3",
      "display_name": "Python 3"
    }
  },
  "cells": [
    {
      "cell_type": "markdown",
      "metadata": {
        "id": "view-in-github",
        "colab_type": "text"
      },
      "source": [
        "<a href=\"https://colab.research.google.com/github/spaziochirale/ContemporaryPython/blob/main/Missione3.ipynb\" target=\"_parent\"><img src=\"https://colab.research.google.com/assets/colab-badge.svg\" alt=\"Open In Colab\"/></a>"
      ]
    },
    {
      "metadata": {
        "id": "IyraKc_imTRO"
      },
      "cell_type": "markdown",
      "source": [
        "# Contemporary Python\n",
        "## Terza Missione\n",
        "## Alla scoperta dei tipi di dato fondamentali\n"
      ]
    },
    {
      "metadata": {
        "id": "5UJo9NnAmmRD"
      },
      "cell_type": "markdown",
      "source": [
        "# Gestione delle Stringhe\n",
        "\n",
        "Una delle caratteristiche più apprezzate del Python è la sua capacità di gestire e manipolare le stringhe in modo facile, intuitivo e potente.\n",
        "\n",
        "Alcune delle notazioni utilizzate nella sintassi del linguaggio saranno più chiare quando avremo svolto la lezione sull'Object Oriented.\n",
        "\n",
        "Una *stringa* in Python è una sequenza ordinata di caratteri, racchiusa tra apici, doppi apici o tripli apici sia normali che doppi. È possibile utilizzare indifferentemente i due tipi di apici e la versione a doppi apici o tripli apici, a patto che siano coerenti tra apertura e chiusura.\n",
        "\n",
        "Per chiarire il concetto, basta guardare l'esempio che segue."
      ]
    },
    {
      "metadata": {
        "id": "bmajRYaoqDCo"
      },
      "cell_type": "code",
      "source": [
        "a = \"Questa è una stringa\"\n",
        "b = 'anche questa è una stringa'\n",
        "c = '''ancora un'altra stringa'''\n",
        "d = \"\"\"ma è davvero esagerato!\"\"\"\n",
        "\n",
        "print(a)\n",
        "print(b)\n",
        "print(c)\n",
        "print(d)"
      ],
      "execution_count": null,
      "outputs": []
    },
    {
      "metadata": {
        "id": "1z4B7fOzqRTb"
      },
      "cell_type": "markdown",
      "source": [
        "Questa grande possibilità permette una facile gestione  di stringhe derivate da frasi di linguaggio comune in cui possono essere presenti sia apici che doppi apici.\n",
        "\n",
        "All'interno di una *stringa* possono essere inclusi caratteri non stampabili o non visualizzabili sul viedeo, detti caratteri di controllo o formattazione, come ad esempio il carattere \"TAB\" o il carattere \"LINE FEED\". In questo caso il carattere è indicato da una specifica sequenza di due caratteri, detta *sequenza di escape*, in cui il primo carattere è il *backslash* \"\\\".\n",
        "Ad esempio, la stringa seguente, se stampata sul terminale, fornisce un output formattato in stile tabella, grazie all'utilizzo dei caratteri di *tabulazione* e *line feed*."
      ]
    },
    {
      "metadata": {
        "id": "xKM3HlS0rIiI"
      },
      "cell_type": "code",
      "source": [
        "a = 'nome\\tcognome\\nStefano\\tCapezzone'\n",
        "print(a)"
      ],
      "execution_count": null,
      "outputs": []
    },
    {
      "metadata": {
        "id": "wGx2JYaKsZAu"
      },
      "cell_type": "markdown",
      "source": [
        "Poiché il *backslash* è il carattere che identifica l'inizio di una sequenza di escape, se si vuole stampare il carattere stesso occorre utilizzare la sequenza '\\\\\\'\n",
        "\n",
        "A seconda della configurazione del Sistema Operativo e dell'installazione Python i caratteri possono essere internamente rappresentati attraverso la codifica ASCII oppure UNICODE.\n",
        "\n",
        "Ecco alcuni esempi di sequenze di escape.\n",
        "\n",
        "\n",
        "> **\\\\\\**\tBackslash (\\)\n",
        "**\\'**\tCarattere di quotatura singola (')\n",
        "**\\\"**\tCarattere di quotatura doppia (\")\n",
        "**\\a**\tASCII Bell (BEL)\n",
        "**\\b**\tASCII Backspace (BS)\n",
        "**\\f**\tASCII Formfeed (FF)\n",
        "**\\n**\tASCII Linefeed (LF)\n",
        "**\\N{name}**\tCarattere chiamato name nel database Unicode (solamente in Unicode)\n",
        "**\\r**\tASCII Carriage Return (CR)\n",
        "**\\t**\tASCII Tab orizzontale (TAB)\n",
        "**\\uxxxx**\tCarattere con valore esadecimale a 16 bit xxxx (valido solo per Unicode)\n",
        "**\\Uxxxxxxxx**\tCarattere con valore esadecimale a 32 bit xxxxxxxx (valido solo per Unicode)\n",
        "**\\v**\tASCII Tab verticale (VT)\n",
        "**\\ooo**\tCarattere ASCII con valore ottale ooo\n",
        "**\\xhh**\tCarattere ASCII con valore esadecimale hh\n",
        "\n",
        "\n",
        "\n",
        "\n",
        "Scrivi nella cella qui sotto e prova ad utilizzare alcune delle sequenze indicate per sperimentare il comportamento in fase di stampa della stringa.\n",
        "\n",
        "\n"
      ]
    },
    {
      "metadata": {
        "id": "vKMadoiQtrhw"
      },
      "cell_type": "code",
      "source": [
        "a = 'Ciao\\rCaro'\n",
        "print(a)"
      ],
      "execution_count": null,
      "outputs": []
    },
    {
      "metadata": {
        "id": "u_5I1n544-_F"
      },
      "cell_type": "markdown",
      "source": [
        "Le stringhe posseggono un insieme di funzioni di utilità che permettono di svolgere le operazioni più comuni. È possibile richiamare queste funzioni su una certa stringa, utilizzando la notazione: *nome_stringa.nome_funzione()*.\n",
        "Comprenderemo meglio questa notazione quando avremo affrontato la lezione sull'Object Oriented.\n",
        "\n",
        "Ecco alcuni esempi di facile comprensione."
      ]
    },
    {
      "metadata": {
        "id": "_J7YhcHG50zF"
      },
      "cell_type": "code",
      "source": [
        "a = 'Stefano Capezzone'\n",
        "n = a.count('z')\n",
        "print(n)"
      ],
      "execution_count": null,
      "outputs": []
    },
    {
      "metadata": {
        "id": "4pZbBoMo6D_q"
      },
      "cell_type": "markdown",
      "source": [
        "La funzione *count('x')* restituisce il numero di occorrenze di *'x'* all'interno della stringa. Provare a verificare se funziona con un solo carattere o anche con una sottostringa qualsiasi. Che succede se *x* non è presente nella stringa?"
      ]
    },
    {
      "metadata": {
        "id": "E4fWg9n87Lha"
      },
      "cell_type": "code",
      "source": [
        "print(a.find('f'))"
      ],
      "execution_count": null,
      "outputs": []
    },
    {
      "metadata": {
        "id": "DPSb_RQY7VBy"
      },
      "cell_type": "markdown",
      "source": [
        "La funzione *find('x')* restituisce la posizione di *'x'* all'interno della stringa. Da quale numero parte il conteggio relativo alla posizione?\n",
        "\n",
        "Qual'è il significato delle funzioni richiamate negli esempi che seguono?"
      ]
    },
    {
      "metadata": {
        "id": "XAOJaNTn8Dwc"
      },
      "cell_type": "code",
      "source": [
        "b = a.lower()\n",
        "c = a.upper()\n",
        "print(a)\n",
        "print(b)\n",
        "print(c)"
      ],
      "execution_count": null,
      "outputs": []
    },
    {
      "metadata": {
        "id": "CtA3JQyk8XaJ"
      },
      "cell_type": "markdown",
      "source": [
        "Negli esempi riportati sopra, la stringa *a* viene modificata dalla chiamata alle funzioni *upper()* o *lower()*?\n",
        "\n",
        "Che dire dell'esempio che segue?"
      ]
    },
    {
      "metadata": {
        "id": "LlzTTeub8kep"
      },
      "cell_type": "code",
      "source": [
        "b = a.replace('z','l')\n",
        "print(a)\n",
        "print(b)"
      ],
      "execution_count": null,
      "outputs": []
    },
    {
      "metadata": {
        "id": "UeuK57-089wr"
      },
      "cell_type": "markdown",
      "source": [
        "La funzione strip() elimina gli spazi bianchi in testa e in coda ad una stringa."
      ]
    },
    {
      "metadata": {
        "id": "He54zU3v9ENw"
      },
      "cell_type": "code",
      "source": [
        "a= '   Pippo   '\n",
        "print('ciao',a,'come stai?')\n",
        "print('ciao',a.strip(),'come stai?')"
      ],
      "execution_count": null,
      "outputs": []
    },
    {
      "cell_type": "markdown",
      "source": [
        "## f-string"
      ],
      "metadata": {
        "id": "D1LmwEd827_w"
      }
    },
    {
      "cell_type": "markdown",
      "source": [
        "A partire dalla versione 3.6 del Python, è stato introdotto un meccanismo molto comodo per gestire la formattazione automatica delle stringhe chiamato *f-string*.\n",
        "\n",
        "Le *f-strings*, rappresentano un metodo di formattazione avanzato e intuitivo noto anche come *Literal String Interpolation*.\n",
        "\n",
        "Questo meccanismo consente di incorporare espressioni Python direttamente all'interno di stringhe letterali, rendendo il codice più leggibile e conciso.\n",
        "\n",
        "Per utilizzare le *f-strings*, è sufficiente anteporre il prefisso **f** o **F** alla stringa letterale. All'interno della stringa, le espressioni Python possono essere inserite tra parentesi graffe { }, e il loro valore verrà automaticamente calcolato e convertito in stringa al momento dell'esecuzione del codice.\n",
        "\n",
        "Come sempre, alcuni esempi chiariscono meglio il concetto più di ogni spiegazione.\n"
      ],
      "metadata": {
        "id": "RzVMrafZ41v_"
      }
    },
    {
      "cell_type": "code",
      "source": [
        "nome = \"Alice\"\n",
        "eta = 30\n",
        "print(f\"Il mio nome è {nome} e ho {eta} anni.\")"
      ],
      "metadata": {
        "id": "gJLXmauX5-cl"
      },
      "execution_count": null,
      "outputs": []
    },
    {
      "cell_type": "markdown",
      "source": [
        "In questo esempio, le variabili *nome* e *eta* sono state incorporate direttamente nella stringa, rendendo il codice più facilmente leggibile."
      ],
      "metadata": {
        "id": "3ObWQCfS6Dd7"
      }
    },
    {
      "cell_type": "code",
      "source": [
        "prezzo = 49.99\n",
        "print(f\"Prezzo: {prezzo:.2f} euro\")"
      ],
      "metadata": {
        "id": "rnijeoVa6QG2"
      },
      "execution_count": null,
      "outputs": []
    },
    {
      "cell_type": "markdown",
      "source": [
        "In quest'altro caso, il valore di prezzo è stato formattato per visualizzare due cifre decimali."
      ],
      "metadata": {
        "id": "Ol3LpgTX6V-B"
      }
    },
    {
      "metadata": {
        "id": "-CLqp9giGDr3"
      },
      "cell_type": "markdown",
      "source": [
        "# Indici\n",
        "\n",
        "nel linguaggio Python, tutti i tipi che coinvolgono sequenze o array di valori possono essere manipolati attraverso l'impiego di *indici* utilizzando la notazione mostrata nell'esempio, che è relativo all'applicazione su una stringa."
      ]
    },
    {
      "metadata": {
        "id": "SXYneNKxGpgP"
      },
      "cell_type": "code",
      "source": [
        "a = 'Hello World'\n",
        "b = a[6]\n",
        "c = a[1:5]\n",
        "print(b)\n",
        "print(c)\n"
      ],
      "execution_count": null,
      "outputs": []
    },
    {
      "metadata": {
        "id": "CG3ER_Q4G6Rf"
      },
      "cell_type": "markdown",
      "source": [
        "Come può essere facilmente verificato modificando l'esempio precedente, nel conteggio degli elementi, la prima posizione è indicata dal numero 0, mentre con la notazione [x:n] l'ultimo elemento del range individuato dalla coppia di indici è **n-1**.\n",
        "\n",
        "Osservare nell'esempio che segue l'effetto dell'omissione di uno dei due indici."
      ]
    },
    {
      "metadata": {
        "id": "-Wq_VajfHp7Z"
      },
      "cell_type": "code",
      "source": [
        "print(a[:5])\n",
        "print(a[6:])\n"
      ],
      "execution_count": null,
      "outputs": []
    },
    {
      "metadata": {
        "id": "9CE3gwK8IcJr"
      },
      "cell_type": "markdown",
      "source": [
        "L'indice può anche essere negativo. In questo caso indica il fatto che il conteggio parte dall'ultimo elemento.\n",
        "Effettuare delle prove modificando l'esempio che segue."
      ]
    },
    {
      "metadata": {
        "id": "pJCVy12VIh9G"
      },
      "cell_type": "code",
      "source": [
        "print(a[1:-2])"
      ],
      "execution_count": null,
      "outputs": []
    },
    {
      "metadata": {
        "id": "V-mL62sUJfX1"
      },
      "cell_type": "markdown",
      "source": [
        "# Liste\n",
        "\n",
        "Le liste sono un tipo di dato molto potente in Python. Sostituiscono il tipo array sia monodimensionale che multidimensionale presenti in altri linguaggi.\n",
        "\n",
        "Una lista può essere creata enumerando i suoi elementi all'interno di una coppia di parentesi quadre."
      ]
    },
    {
      "metadata": {
        "id": "xzZCAKM0J637"
      },
      "cell_type": "code",
      "source": [
        "numeri = [1,2,3]\n",
        "frutta = ['mele','pere', 'arance','banane']\n",
        "\n",
        "print(numeri,frutta)\n"
      ],
      "execution_count": null,
      "outputs": []
    },
    {
      "metadata": {
        "id": "tYWQDo1uKaYx"
      },
      "cell_type": "markdown",
      "source": [
        "Una lista può contenere oggetti di qualunque tipo, anche di tipi non omogenei tra loro"
      ]
    },
    {
      "metadata": {
        "id": "AIO_jmUXKhO-"
      },
      "cell_type": "code",
      "source": [
        "l = [1,2,'banane',1.73]\n",
        "print(l)"
      ],
      "execution_count": null,
      "outputs": []
    },
    {
      "metadata": {
        "id": "bK3q0lfzKpRh"
      },
      "cell_type": "markdown",
      "source": [
        "Una lista può contenere altre liste tra i suoi elementi"
      ]
    },
    {
      "metadata": {
        "id": "dfL7Vhn9Kv0Z"
      },
      "cell_type": "code",
      "source": [
        "l = [1,2,3]\n",
        "m = [6,4,2]\n",
        "p = [l,m]\n",
        "print(p)"
      ],
      "execution_count": null,
      "outputs": []
    },
    {
      "metadata": {
        "id": "QqWYWCNxLIXs"
      },
      "cell_type": "markdown",
      "source": [
        "Le liste sono **sequenze ordinate di oggetti** e possono essere manipolate con la notazione che fa uso di indici."
      ]
    },
    {
      "metadata": {
        "id": "jZHaW0k0LaSP"
      },
      "cell_type": "code",
      "source": [
        "l = ['pippo','pluto', 'paperino', 'paperone', 'qui','quo','qua']\n",
        "print(l[2])\n",
        "print(l[2:5])"
      ],
      "execution_count": null,
      "outputs": []
    },
    {
      "metadata": {
        "id": "sE7FC7dOMsuC"
      },
      "cell_type": "markdown",
      "source": [
        "Da notare che la notazione con un solo indice restituisce l'elemento i-esimo della lista e non una lista di un solo elemento, come risulta chiaro dall'esempio che segue."
      ]
    },
    {
      "metadata": {
        "id": "QePa4yuFM6Mn"
      },
      "cell_type": "code",
      "source": [
        "print(l[3])\n",
        "print(l[3:4])"
      ],
      "execution_count": null,
      "outputs": []
    },
    {
      "metadata": {
        "id": "louUXAvsNxCn"
      },
      "cell_type": "markdown",
      "source": [
        "Anche nel caso delle liste, come già visto a proposito delle stringhe, esistono delle funzioni richiamabili sulla lista stessa che permettono di effettuare operazioni di utilità.\n",
        "\n",
        "Alcune funzioni modificano il contenuto della lista.\n",
        "\n",
        "La funzione ***append()*** aggiunge un elemento in fondo alla lista e può essere utilizzata per costruire incrementalmente una lista nel corso del programma."
      ]
    },
    {
      "metadata": {
        "id": "gxsN6DhwOmj7"
      },
      "cell_type": "code",
      "source": [
        "l =[]\n",
        "print('Lista vuota:',l)\n",
        "l.append('mele')\n",
        "print(l)\n",
        "l.append('pere')\n",
        "print(l)"
      ],
      "execution_count": null,
      "outputs": []
    },
    {
      "metadata": {
        "id": "G12zroTpPFFs"
      },
      "cell_type": "markdown",
      "source": [
        "La funzione ***pop()*** è complementare alla append(). Se richiamata su una lista, restituisce l'oggetto che si trova in fondo alla lista e **lo rimuove dalla lista**."
      ]
    },
    {
      "metadata": {
        "id": "uiYpY804PhK1"
      },
      "cell_type": "code",
      "source": [
        "l = ['mele','pere', 'arance','banane']\n",
        "print('Lista prima dell\\'estrazione:',l)\n",
        "a = l.pop()\n",
        "print('Valore estratto:',a)\n",
        "print(\"Lista dopo l'estrazione:\",l)"
      ],
      "execution_count": null,
      "outputs": []
    },
    {
      "metadata": {
        "id": "50WVgbCKQSlm"
      },
      "cell_type": "markdown",
      "source": [
        "Provare a comprendere l'effetto delle funzioni indicate negli esempi che seguono."
      ]
    },
    {
      "metadata": {
        "id": "JTKOFVPqQcMI"
      },
      "cell_type": "code",
      "source": [
        "l = ['mele','pere', 'arance','banane']\n",
        "i = l.index('arance')\n",
        "print(i)"
      ],
      "execution_count": null,
      "outputs": []
    },
    {
      "metadata": {
        "id": "12a3OD3VQpFl"
      },
      "cell_type": "code",
      "source": [
        "l = ['mele','pere', 'arance','banane', 'pere']\n",
        "n = l.count('pere')\n",
        "print(n)"
      ],
      "execution_count": null,
      "outputs": []
    },
    {
      "metadata": {
        "id": "IDmS0yMFQ9-B"
      },
      "cell_type": "code",
      "source": [
        "l = ['mele','pere', 'arance','banane', 'pere']\n",
        "print(l)\n",
        "l.remove('pere')\n",
        "print(l)"
      ],
      "execution_count": null,
      "outputs": []
    },
    {
      "metadata": {
        "id": "xKQ9ltdFRIlZ"
      },
      "cell_type": "code",
      "source": [
        "l = ['mele','pere', 'arance','banane']\n",
        "print(l)\n",
        "l.insert(2,'mandarini')\n",
        "print(l)"
      ],
      "execution_count": null,
      "outputs": []
    },
    {
      "metadata": {
        "id": "riXZbPn2Rhuo"
      },
      "cell_type": "code",
      "source": [
        "l = ['mele', 'pere', 'mandarini', 'arance', 'banane']\n",
        "print(l)\n",
        "l.reverse()\n",
        "print(l)"
      ],
      "execution_count": null,
      "outputs": []
    },
    {
      "metadata": {
        "id": "m9eJLgDKSrOc"
      },
      "cell_type": "code",
      "source": [
        "l = ['mele', 'pere', 'mandarini', 'arance', 'banane']\n",
        "print(l)\n",
        "l.sort()\n",
        "print(l)"
      ],
      "execution_count": null,
      "outputs": []
    },
    {
      "metadata": {
        "id": "AuZJOt9fTFgo"
      },
      "cell_type": "markdown",
      "source": [
        "## Utilizzo delle liste come iteratore per il controllo dei cicli FOR\n",
        "\n",
        "La lista è uno dei tipi di oggetti in Python che vengono definiti **ITERATORI**.\n",
        "Un iteratore può essere utilizzato per istanziare la variabile di controllo di un ciclo for. L'esempio che segue chiarisce il concetto."
      ]
    },
    {
      "metadata": {
        "id": "1SAF5cjHTqwt"
      },
      "cell_type": "code",
      "source": [
        "l = ['mele', 'pere', 'mandarini', 'arance', 'banane']\n",
        "for f in l:\n",
        "  print(f)"
      ],
      "execution_count": null,
      "outputs": []
    },
    {
      "metadata": {
        "id": "ND39UZ_kT-GL"
      },
      "cell_type": "markdown",
      "source": [
        "# Tuple\n",
        "\n",
        "Nel Python è definito un altro tipo di dato, molto simile alle liste, denominato TUPLA.\n",
        "Le tuple sono come liste, ma non sono modificabili.\n",
        "Tutti i metodi, cioè le funzioni proprie, delle liste esistono anche nelle tuple, ad eccezione di quelle che modificano la tupla.\n",
        "Una tupla è praticamente una lista read-only!\n",
        "La notazione per definire le tuple usa le parentesi tonde anziché quadre.\n",
        "\n",
        "Ecco alcuni esempi."
      ]
    },
    {
      "metadata": {
        "id": "I5-3YaE2UjTU"
      },
      "cell_type": "code",
      "source": [
        "l = ('pele', 'mele','arance')\n",
        "print(l)\n",
        "print(l.count('mele'))"
      ],
      "execution_count": null,
      "outputs": []
    },
    {
      "metadata": {
        "id": "ocWuy0thU55l"
      },
      "cell_type": "markdown",
      "source": [
        "Una lista può essere convertita in tupla e viceversa."
      ]
    },
    {
      "metadata": {
        "id": "q540TzLWU93Y"
      },
      "cell_type": "code",
      "source": [
        "l = ['mele', 'pere', 'mandarini', 'arance', 'banane']\n",
        "t = tuple(l)\n",
        "print(t)"
      ],
      "execution_count": null,
      "outputs": []
    },
    {
      "metadata": {
        "id": "7pshFntoVKqm"
      },
      "cell_type": "code",
      "source": [
        "t = ('mele', 'pere', 'mandarini', 'arance', 'banane')\n",
        "l = list(t)\n",
        "l.sort()\n",
        "print(l)"
      ],
      "execution_count": null,
      "outputs": []
    },
    {
      "metadata": {
        "id": "F82ZI7eBVoI4"
      },
      "cell_type": "markdown",
      "source": [
        "# Dizionari\n",
        "\n",
        "I dizionari sono un tipo di dato strutturato che raramente è presente in altri linguaggi.\n",
        "\n",
        "Un dizionario è una collezione di oggetti che deve essere intesa come **NON ORDINATA**. Nel dizionario non c'è un primo elemento, un secondo, ... e un ultimo elemento.\n",
        "Sul dizionario non è possibile usare la notazione ad indici.\n",
        "\n",
        "Gli elementi sono memorizzati nel dizionario associandoli a ***chiavi***.\n",
        "\n",
        "Un dizionario si definisce indicando un **insieme di coppie di elementi** separate da virgole. In ogni coppia il primo elemento rappresenta la chiave che identifica il secondo elemento della coppia che è il valore vero e proprio.\n",
        "\n",
        "Ecco un esempio di definizione di un dizionario."
      ]
    },
    {
      "metadata": {
        "id": "S42omOlvWuBP"
      },
      "cell_type": "code",
      "source": [
        "d = {'nome':'Stefano','cognome':'Capezzone','eta':35, 'categoria':'Docente'}\n",
        "print(d)"
      ],
      "execution_count": null,
      "outputs": []
    },
    {
      "metadata": {
        "id": "bbOhFK3lXcC4"
      },
      "cell_type": "markdown",
      "source": [
        "Il dizionario permette di accedere al valore utilizzando la chiave. L'elemento a sinistra dei due punti rappresenta la chiave."
      ]
    },
    {
      "metadata": {
        "id": "KpzFWrzBXlf5"
      },
      "cell_type": "code",
      "source": [
        "d = {'nome':'Stefano','cognome':'Capezzone','eta':35, 'categoria':'Docente'}\n",
        "print(d['cognome'])"
      ],
      "execution_count": null,
      "outputs": []
    },
    {
      "metadata": {
        "id": "d-1vxU4zX4Eg"
      },
      "cell_type": "markdown",
      "source": [
        "Ad un dizionario possono essere aggiunti elementi"
      ]
    },
    {
      "metadata": {
        "id": "N6b5ZBf2YBgT"
      },
      "cell_type": "code",
      "source": [
        "d = {'nome':'Stefano','cognome':'Capezzone','eta':35, 'categoria':'Docente'}\n",
        "d['livello']=7\n",
        "print(d)"
      ],
      "execution_count": null,
      "outputs": []
    },
    {
      "metadata": {
        "id": "-YxTz-TMZNDc"
      },
      "cell_type": "markdown",
      "source": [
        "Per rimuovere un oggetto da un dizionario possiamo usare l'operatore *del* che distrugge un oggetto Python"
      ]
    },
    {
      "metadata": {
        "id": "5OaNPWBJY4tR"
      },
      "cell_type": "code",
      "source": [
        "d = {'nome':'Stefano','cognome':'Capezzone','eta':35, 'categoria':'Docente'}\n",
        "del d['eta']\n",
        "print(d)"
      ],
      "execution_count": null,
      "outputs": []
    },
    {
      "metadata": {
        "id": "4eUFAeG7Zk--"
      },
      "cell_type": "markdown",
      "source": [
        "Osservate gli esempi che seguono per intuire le potenzialità dei dizionari in Python."
      ]
    },
    {
      "metadata": {
        "id": "2fKeJPdHZtAa"
      },
      "cell_type": "code",
      "source": [
        "released = {\n",
        "\t\t\"iphone\" : 2007,\n",
        "\t\t\"iphone 3G\" : 2008,\n",
        "\t\t\"iphone 3GS\" : 2009,\n",
        "\t\t\"iphone 4\" : 2010,\n",
        "\t\t\"iphone 4S\" : 2011,\n",
        "\t\t\"iphone 5\" : 2012\n",
        "\t}\n",
        "print(released)"
      ],
      "execution_count": null,
      "outputs": []
    },
    {
      "metadata": {
        "id": "uPjoafElaGG3"
      },
      "cell_type": "code",
      "source": [
        "released = {\n",
        "\t\t\"iphone\" : 2007,\n",
        "\t\t\"iphone 3G\" : 2008,\n",
        "\t\t\"iphone 3GS\" : 2009,\n",
        "\t\t\"iphone 4\" : 2010,\n",
        "\t\t\"iphone 4S\" : 2011,\n",
        "\t\t\"iphone 5\" : 2012\n",
        "\t}\n",
        "print(len(released))"
      ],
      "execution_count": null,
      "outputs": []
    },
    {
      "metadata": {
        "id": "5TjXQeOwaWYu"
      },
      "cell_type": "code",
      "source": [
        "released = {\n",
        "\t\t\"iphone\" : 2007,\n",
        "\t\t\"iphone 3G\" : 2008,\n",
        "\t\t\"iphone 3GS\" : 2009,\n",
        "\t\t\"iphone 4\" : 2010,\n",
        "\t\t\"iphone 4S\" : 2011,\n",
        "\t\t\"iphone 5\" : 2012\n",
        "\t}\n",
        "print('iphone' in released)\n",
        "del released['iphone']\n",
        "print('iphone' in released)\n"
      ],
      "execution_count": null,
      "outputs": []
    },
    {
      "metadata": {
        "id": "WaANqUpBbCU_"
      },
      "cell_type": "code",
      "source": [
        "print(released.get(\"iphone 5\",\"Non Trovato\"))"
      ],
      "execution_count": null,
      "outputs": []
    },
    {
      "cell_type": "markdown",
      "source": [
        "## Assegnazioni simultanee di più valori"
      ],
      "metadata": {
        "id": "spLK7__a7OF_"
      }
    },
    {
      "cell_type": "markdown",
      "source": [
        "Sin dai primissimi tutorial hai conosciuto l'operatore di assegnazione *=*, fondamentale in tutti i linguaggi per assegnare valori alle variabili, e hai visto subito che in Python l'assegnazione definisce in modo implicito e immediato la variabile e il relativo tipo di dato.\n",
        "\n",
        "In realtà, l'operatore di assegnazione del Python è ancora più potente di quello che sembra, permettendo l'assegnazione simultanea di più valori a più variabili contemporaneamente come potrai sperimentare tu stesso  attraverso gli esempi che seguono.\n"
      ],
      "metadata": {
        "id": "99BlK0lC7ZZN"
      }
    },
    {
      "cell_type": "code",
      "source": [
        "a,b,c = 'pippo','pluto','paperino'\n",
        "print(a)\n",
        "print(b)\n",
        "print(c)"
      ],
      "metadata": {
        "id": "JW8I0yeG7Yhv"
      },
      "execution_count": null,
      "outputs": []
    },
    {
      "cell_type": "markdown",
      "source": [
        "Fantastico, vero? L'importante che la sequenza di valori o di espressioni separati dalla virgola abbia un numero di elementi pari al numero di variabili che si trovano a sinistra rispetto all'operatore **=**\n",
        "\n",
        "Ovviamente a destra dell'operatore può esserci una sequenza di espressioni di qualunque tipo di dato valido, come mostra l'esempio che segue.\n",
        "\n"
      ],
      "metadata": {
        "id": "OcVTPE8p8Wzc"
      }
    },
    {
      "cell_type": "code",
      "source": [
        "x,y,z = 3+7,[1,2,3],(23,21)\n",
        "print(x)\n",
        "print(y)\n",
        "print(z)"
      ],
      "metadata": {
        "id": "2p3a5h5z87ka"
      },
      "execution_count": null,
      "outputs": []
    },
    {
      "cell_type": "markdown",
      "source": [
        "Questa caratteristica del Python è collegata alla gestione delle tuple. Prova a lanciare il codice che segue.\n"
      ],
      "metadata": {
        "id": "Q8QLPj_3-I5T"
      }
    },
    {
      "cell_type": "code",
      "source": [
        "a,b = (3,4)\n",
        "print(a)\n",
        "print(b)"
      ],
      "metadata": {
        "id": "Kqcx2kMp-CBP"
      },
      "execution_count": null,
      "outputs": []
    },
    {
      "cell_type": "markdown",
      "source": [
        "In Python, la possibilità di assegnare valori a più variabili in una singola istruzione, come negli esempi riportati sopra, è nota come **assegnazione multipla** o ***unpacking di tuple***.\n",
        "\n",
        "Questa caratteristica consente di migliorare la leggibilità del codice e di rendere le operazioni di assegnazione più concise e dirette. L'assegnazione multipla è possibile grazie al fatto che Python supporta il concetto di packing e unpacking di tuple in modo implicito.\n",
        "\n",
        "Quando si scrive `a, b = 3, 4`, Python \"impacchetta\" i valori 3 e 4 in una tupla temporanea e poi \"disimballa\" questa tupla assegnando il primo valore alla variabile `a` e il secondo valore alla variabile `b`. Questo processo è noto come tuple unpacking.\n",
        "\n",
        "Questa funzionalità non è unica di Python, ma è più esplicitamente supportata e utilizzata in Python rispetto ad alcuni altri linguaggi di programmazione. In molti linguaggi, per ottenere un risultato simile, potrebbe essere necessario scrivere istruzioni di assegnazione separate o utilizzare una sintassi più complessa.\n",
        "\n",
        "L'assegnazione multipla in Python può essere utilizzata con qualsiasi iterabile, non solo con le tuple. Ciò significa che è possibile utilizzare questa caratteristica con liste, stringhe e altri oggetti iterabili. Ad esempio, è possibile assegnare i valori di una lista a più variabili in una sola istruzione o scambiare i valori tra due variabili senza dover utilizzare una variabile temporanea.\n",
        "\n",
        "Un'altra applicazione interessante dell'assegnazione multipla è l'utilizzo dell'operatore `*` per catturare più valori in una variabile sotto forma di lista quando il numero di valori supera il numero di variabili specificate per l'assegnazione.\n",
        "\n"
      ],
      "metadata": {
        "id": "OOFXBcGq-ZU9"
      }
    },
    {
      "cell_type": "code",
      "source": [
        "a,b = ['pippo','pluto']\n",
        "print(a)\n",
        "print(b)"
      ],
      "metadata": {
        "id": "MhqyDuKP_MN6"
      },
      "execution_count": null,
      "outputs": []
    },
    {
      "cell_type": "code",
      "source": [
        "a,b,c,d = \"ciao\"\n",
        "print(a)\n",
        "print(b)\n",
        "print(c)\n",
        "print(d)"
      ],
      "metadata": {
        "id": "3D8KLZ2e_lZd"
      },
      "execution_count": null,
      "outputs": []
    },
    {
      "cell_type": "code",
      "source": [
        "a = 5\n",
        "b = 7\n",
        "a,b = b,a\n",
        "print(a)\n",
        "print(b)"
      ],
      "metadata": {
        "id": "OxtQzjj4_7zL"
      },
      "execution_count": null,
      "outputs": []
    },
    {
      "cell_type": "code",
      "source": [
        "a, *b = \"ciao\"\n",
        "print(a)\n",
        "print(b)"
      ],
      "metadata": {
        "id": "z41GUvujAZqY"
      },
      "execution_count": null,
      "outputs": []
    }
  ]
}